{
 "cells": [
  {
   "cell_type": "markdown",
   "id": "5d747645",
   "metadata": {},
   "source": [
    "# Data Science Tools and Ecosystem "
   ]
  },
  {
   "cell_type": "markdown",
   "id": "49d24897",
   "metadata": {},
   "source": [
    "**Objectives:**\n",
    "* Popular Data Science Tools \n",
    "* Popular Languages Data Scientists Use \n",
    "* Popular Libraries used by Data Scientists"
   ]
  },
  {
   "cell_type": "markdown",
   "id": "d3308ccf",
   "metadata": {},
   "source": [
    "**In this notebook, Data Science Tools and Ecosystem are summarized.**\n",
    "* **Programming languages:** Python and R are the two most popular programming languages for data science. \n",
    "* **SQL:** SQL is a language used to query and manipulate data in relational databases. \n",
    "* **Cloud computing platforms:** Cloud computing platforms such as Amazon Web Services (AWS), Microsoft Azure, and Google Cloud Platform provide a range of services for data science, including storage, computing, and machine learning.\n",
    "* **Data visualization tools:** Data visualization tools such as Tableau, Power BI, and Matplotlib allow data scientists to create charts, graphs, and other visualizations to communicate their findings to others.\n"
   ]
  },
  {
   "cell_type": "markdown",
   "id": "37b56d6c",
   "metadata": {},
   "source": [
    "**Some of the popular languages that Data Scientists use are:**\n",
    "1. **Python:** Python is a general-purpose programming language that is known for its simplicity and readability. \n",
    "1. **R:** R is a statistical programming language that is specifically designed for data science.\n",
    "1. **SQL:** SQL is a language used to query and manipulate data in relational databases. It is an essential skill for data scientists who need to work with large datasets.\n",
    "    \n",
    "    "
   ]
  },
  {
   "cell_type": "markdown",
   "id": "e2a332bf",
   "metadata": {},
   "source": [
    "**Some of the commonly used libraries used by Data Scientists include:**\n",
    "1. **NumPy:** NumPy is a library for scientific computing with Python. It provides a powerful and efficient way to work with numerical data.\n",
    "2. **Pandas:** Pandas is a library for data analysis and manipulation with Python. It provides data structures and operations for working with large, complex datasets. \n",
    "3. **SciPy:** SciPy is a library for scientific computing with Python. It provides a wide range of functions for mathematical, statistical, and technical computing. \n",
    "4. **Matplotlib:** Matplotlib is a library for data visualization with Python. It provides a wide range of tools for creating charts, graphs, and other visualizations. \n",
    "5. **Scikit-learn:** Scikit-learn is a library for machine learning with Python. It provides a wide range of machine learning algorithms and tools for data preparation, model training, and evaluation. "
   ]
  },
  {
   "cell_type": "markdown",
   "id": "4c0ce0b5",
   "metadata": {},
   "source": [
    "|Data Science Tools|\n",
    "|:------------------:|\n",
    "|Programming languages|\n",
    "|SQL|\n",
    "| Cloud computing platforms |\n"
   ]
  },
  {
   "cell_type": "markdown",
   "id": "8a1245ad",
   "metadata": {},
   "source": [
    "### Below are a few examples of evaluating arithmetic expressions in Python"
   ]
  },
  {
   "cell_type": "code",
   "execution_count": 4,
   "id": "9a9c307f",
   "metadata": {},
   "outputs": [
    {
     "data": {
      "text/plain": [
       "17"
      ]
     },
     "execution_count": 4,
     "metadata": {},
     "output_type": "execute_result"
    }
   ],
   "source": [
    "#This a simple arithmetic expression to mutiply then add integers\n",
    "(3*4)+5"
   ]
  },
  {
   "cell_type": "code",
   "execution_count": 5,
   "id": "6b62af2f",
   "metadata": {},
   "outputs": [
    {
     "data": {
      "text/plain": [
       "3.3333333333333335"
      ]
     },
     "execution_count": 5,
     "metadata": {},
     "output_type": "execute_result"
    }
   ],
   "source": [
    "#This will convert 200 minutes to hours by diving by 60\n",
    "200/60"
   ]
  },
  {
   "cell_type": "markdown",
   "id": "d9f1f384",
   "metadata": {},
   "source": [
    "## Author\n",
    "**youness assideki**"
   ]
  },
  {
   "cell_type": "code",
   "execution_count": null,
   "id": "c0fad562",
   "metadata": {},
   "outputs": [],
   "source": []
  }
 ],
 "metadata": {
  "kernelspec": {
   "display_name": "Python 3 (ipykernel)",
   "language": "python",
   "name": "python3"
  },
  "language_info": {
   "codemirror_mode": {
    "name": "ipython",
    "version": 3
   },
   "file_extension": ".py",
   "mimetype": "text/x-python",
   "name": "python",
   "nbconvert_exporter": "python",
   "pygments_lexer": "ipython3",
   "version": "3.10.9"
  }
 },
 "nbformat": 4,
 "nbformat_minor": 5
}
